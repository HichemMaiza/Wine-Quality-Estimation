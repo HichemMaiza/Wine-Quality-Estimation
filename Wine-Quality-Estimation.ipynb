{
 "cells": [
  {
   "cell_type": "markdown",
   "metadata": {},
   "source": [
    "# Multi layer Neural Network With Tensorflow \n",
    "### Hichem MAIZA"
   ]
  },
  {
   "cell_type": "markdown",
   "metadata": {},
   "source": [
    "# Import Libraries  \n",
    "- First, I import tensorflow: a deep learning framework \n",
    "- Second, I import pandas to easily deal with Data frames and csv files \n",
    "- Third, I import matplotlib.pyplot to plot figures"
   ]
  },
  {
   "cell_type": "code",
   "execution_count": 14,
   "metadata": {
    "collapsed": true
   },
   "outputs": [],
   "source": [
    "import tensorflow as tf\n",
    "import pandas as pd\n",
    "import numpy as np \n",
    "import matplotlib.pyplot as plt \n",
    "import math \n",
    "from tensorflow.python.framework import ops"
   ]
  },
  {
   "cell_type": "markdown",
   "metadata": {},
   "source": [
    "# One Hot Encoding Routine :\n",
    "- The one hot encoding routine is another representation of a class: this technique is used in the case of: the outputs are multiple classes.\n",
    "- In our case we have 6 classes from 3 to 8 \n",
    "- An example of one Hot encoding is : \n",
    "\n",
    "  <table align=\"center\">\n",
    "  <tr>\n",
    "    <th>Class</th>\n",
    "    <th>One Hot Encoding</th> \n",
    "  </tr>\n",
    "  <tr>\n",
    "    <td>3</td>\n",
    "    <td>[1,0,0,0,0,0]</td> \n",
    "  </tr>\n",
    "  <tr>\n",
    "    <td>4</td>\n",
    "    <td>[0,1,0,0,0,0]</td> \n",
    "  </tr>\n",
    "  <tr>\n",
    "    <td>5</td>\n",
    "    <td>[0,0,1,0,0,0]</td> \n",
    "  </tr>\n",
    "  <tr>\n",
    "    <td>6</td>\n",
    "    <td>[0,0,0,1,0,0]</td> \n",
    "  </tr>\n",
    "  <tr>\n",
    "    <td>7</td>\n",
    "    <td>[0,0,0,0,1,0]</td> \n",
    "  </tr>\n",
    "  <tr>\n",
    "    <td>8 and 9</td>\n",
    "    <td>[0,0,0,0,0,1]</td> \n",
    "  </tr>\n",
    "</table>\n",
    "\n",
    "\n",
    "- The illustrated function takes as input a vector of labels and compute a one hot matrix as output"
   ]
  },
  {
   "cell_type": "code",
   "execution_count": 15,
   "metadata": {
    "collapsed": true
   },
   "outputs": [],
   "source": [
    "def convert_to_onehot(y, nbclass):\n",
    "    '''\n",
    "    Creates a Matrix of one hot vector from (Y)\n",
    "    \n",
    "    Arguments:\n",
    "    Y -- input classes, of shape (1, number of examples)\n",
    "    nbclass -- number of Classes\n",
    "    \n",
    "    Returns:\n",
    "    y_train -- Matrix coded in one hot logic\n",
    "    '''\n",
    "    y_train = [] \n",
    "    for i in range(len(y)) :\n",
    "        temp =np.zeros((nbclass))\n",
    "        # the case of 8 or 9 \n",
    "        if (y[i] == 9):\n",
    "            temp[y[i]- 4] = 1\n",
    "        # other cases\n",
    "        else : \n",
    "            temp[y[i]-3] = 1\n",
    "        y_train.append(temp)\n",
    "    return np.array(y_train).T\n"
   ]
  },
  {
   "cell_type": "markdown",
   "metadata": {},
   "source": [
    "# Read Data\n",
    "- This Lab is accompanied with two data sets one for the training and the second for the test \n",
    "- I read the Data Sets then I put them in a panda data frames so i can manipulate them easily"
   ]
  },
  {
   "cell_type": "code",
   "execution_count": 16,
   "metadata": {
    "collapsed": true
   },
   "outputs": [],
   "source": [
    "train_data = pd.read_csv('winequality_White_train.csv', sep= ';')\n",
    "train_test = pd.read_csv('winequality_White_test.csv', sep= ';') "
   ]
  },
  {
   "cell_type": "markdown",
   "metadata": {},
   "source": [
    "# Features and Labels \n",
    "- The data sets are composed of features and labels \n",
    "- I put the features in a matrix which i called it X_train \n",
    "- I put the labels in a vector which i called it Y_train \n",
    "- I also did the same with the test data set"
   ]
  },
  {
   "cell_type": "code",
   "execution_count": 17,
   "metadata": {
    "collapsed": true
   },
   "outputs": [],
   "source": [
    "X_train  = (train_data.as_matrix().T)[0:11,:]\n",
    "X_test = (train_test.as_matrix().T)[0:11,:]\n",
    "Y_train = convert_to_onehot(train_data['quality'], 6)\n",
    "Y_test  = convert_to_onehot(train_test['quality'], 6)  "
   ]
  },
  {
   "cell_type": "markdown",
   "metadata": {},
   "source": [
    "# Shapes !!\n",
    "\n",
    "- I keep track of shapes, all the times because this is where tensorflow crashes the most \n",
    "- In deep learning in general matrix dimensions are so important so here i verify my matrices shapes \n",
    "- Note that every column in the X_train matrix is a training sample \n",
    "- Note that every column in the Y_train matrix is a training label \n",
    "- The same thing with test data sets "
   ]
  },
  {
   "cell_type": "code",
   "execution_count": 18,
   "metadata": {},
   "outputs": [
    {
     "name": "stdout",
     "output_type": "stream",
     "text": [
      "number of training examples = 4398\n",
      "number of test examples = 500\n",
      "X_train shape: (11, 4398)\n",
      "Y_train shape: (6, 4398)\n",
      "X_test shape: (11, 500)\n",
      "Y_test shape: (6, 500)\n"
     ]
    }
   ],
   "source": [
    "print (\"number of training examples = \" + str(X_train.shape[1]))\n",
    "print (\"number of test examples = \" + str(X_test.shape[1]))\n",
    "print (\"X_train shape: \" + str(X_train.shape))\n",
    "print (\"Y_train shape: \" + str(Y_train.shape))\n",
    "print (\"X_test shape: \" + str(X_test.shape))\n",
    "print (\"Y_test shape: \" + str(Y_test.shape)) "
   ]
  },
  {
   "cell_type": "markdown",
   "metadata": {},
   "source": [
    "# Batch Vs Mini Batch \n",
    "\n",
    "- After one week of research i finally understood what a mini-batch stands for : \n",
    "    - We can say that a batch is the hole(complete) data set \n",
    "    - And a mini batch is a small portion of it     \n",
    "- Why this mini batch exist ? and why everyone uses it ? \n",
    "    - when we run gradient descent on the whole data set the gradient become too slow to converge \n",
    "    - The solution is to decompose the data set into mini-batches so the gradient can converge faster \n",
    "- ok ! but what size should we use for this batch\n",
    "    - 1st case : batch = data set --> case of batch gradient descent (the usual case)\n",
    "    - 2nd case : batch = one sample--> so we have to iterate all over the exemples (stochastic gradient descent) and its the worst case\n",
    "        ```python\n",
    "            for Sample in All_train_Examples:\n",
    "                Run_Gradient_Descent()\n",
    "        ```  \n",
    "    - 3rd case : batch = Not too small and not too big : it can be 32,64,128,256,512 in general $2^n$, the best choice !! \n",
    "- There's many methods to compute batches, the one I found it interesting  is to compute mini-batches randomly\n",
    "- I implemented it in two steps : \n",
    "    - The first step is to randomly select sample from X_train and the Corresponding Y_train \n",
    "    - The second step is select mini-batches with respect to the bacth size "
   ]
  },
  {
   "cell_type": "code",
   "execution_count": 19,
   "metadata": {
    "collapsed": true
   },
   "outputs": [],
   "source": [
    "def random_batches(X, Y, mini_batch_size = 64, seed = 0) :\n",
    "    \"\"\"\n",
    "    Creates a list of random minibatches from (X, Y)\n",
    "    \n",
    "    Arguments:\n",
    "    X -- input data\n",
    "    Y -- true \"label\" vector\n",
    "    mini_batch_size -- size of the mini-batches\n",
    "    \n",
    "    Returns:\n",
    "    mini_batches -- list of (mini_batch_X, mini_batch_Y)\n",
    "    \"\"\"\n",
    "    \n",
    "    np.random.seed(seed)            # to get the same result every time so i can verify my results       \n",
    "    m = X.shape[1]                  # number of training examples\n",
    "    mini_batches = []\n",
    "        \n",
    "    # Step 1: Shuffle (X, Y)\n",
    "    permutation = list(np.random.permutation(m))\n",
    "    shuffled_X = X[:, permutation]\n",
    "    shuffled_Y = Y[:, permutation].reshape((Y.shape[0],m))\n",
    "\n",
    "    # Step 2: Partition (shuffled_X, shuffled_Y). Minus the end case.d\n",
    "    num_complete_minibatches = math.floor(m/mini_batch_size) # number of mini batches of size mini_batch_size\n",
    "    for k in range(0, num_complete_minibatches):\n",
    "        mini_batch_X = shuffled_X[:,k*mini_batch_size:k*mini_batch_size + mini_batch_size ]\n",
    "        mini_batch_Y = shuffled_Y[:,k*mini_batch_size:k*mini_batch_size + mini_batch_size ]\n",
    "        mini_batch = (mini_batch_X, mini_batch_Y)\n",
    "        mini_batches.append(mini_batch)\n",
    "    \n",
    "    # Handling the end case (last mini-batch < mini_batch_size)\n",
    "    if m % mini_batch_size != 0:\n",
    "        mini_batch_X = shuffled_X[:,num_complete_minibatches*mini_batch_size:]\n",
    "        mini_batch_Y = shuffled_Y[:,num_complete_minibatches*mini_batch_size:]\n",
    "        mini_batch = (mini_batch_X, mini_batch_Y)\n",
    "        mini_batches.append(mini_batch)\n",
    "    \n",
    "    return mini_batches"
   ]
  },
  {
   "cell_type": "markdown",
   "metadata": {},
   "source": [
    "# Place holders \n",
    "- Tensorflow place holders are variable that can change when the program is running  they are not constant variables \n",
    "    - First, I defined X, a place holder for my input features \n",
    "    - Second, I defined Y, a place holder for my output labels \n",
    "    - The function headers are defined for organizing code and make it more visible "
   ]
  },
  {
   "cell_type": "code",
   "execution_count": 20,
   "metadata": {
    "collapsed": true
   },
   "outputs": [],
   "source": [
    "def create_placeholders(n_x, n_y):\n",
    "    \"\"\"\n",
    "    Creates the placeholders for the tensorflow session.\n",
    "    \n",
    "    Arguments:\n",
    "    n_x -- size of features vector\n",
    "    n_y -- number of classes \n",
    "    \n",
    "    Returns:\n",
    "    X -- placeholder for the data input\n",
    "    Y -- placeholder for the input labels\n",
    "    \"\"\"\n",
    "    X = tf.placeholder(dtype = 'float', shape=[n_x, None], name= 'X')\n",
    "    Y = tf.placeholder(dtype = 'float', shape=[n_y, None], name= 'Y')\n",
    "    return X, Y"
   ]
  },
  {
   "cell_type": "markdown",
   "metadata": {},
   "source": [
    "# Architecture !! \n",
    "- here I defined my network architecture \n",
    "    - First How many layers will this network have ? \n",
    "        - This is a deep neural network so I chose to  two hidden layers architecture --> so a 3 layer neural network\n",
    "    - Second How many neurons the layer has ? \n",
    "        - It depends on the number of the layer (you can change the number of neurons and see the result)\n",
    "        - In this example i chose a 25 neurons in the 1st layer, 12 in the 2nd, and 6 in the 3rd \n",
    "    - How i defined shapes ? \n",
    "        - I did the calculation by hand, I verify it in hand than i put it into the variables  \n",
    "    - Xavier ? \n",
    "        - After research I found that random initialization is good for weights and zeros initialization for biases to speed up the converging  <br> of the gradient descent, but there are other method more robust for converging, Xavier is one of those methods, the principle is to multiply the random initialization by this Term :  \\begin{equation*}\\frac{1}{\\Bigl(\\sqrt{n^(l-1)})} \\end{equation*}\n",
    "        where l is layer number and n is number of features in the training example"
   ]
  },
  {
   "cell_type": "code",
   "execution_count": 21,
   "metadata": {
    "collapsed": true
   },
   "outputs": [],
   "source": [
    "def initialize_parameters(name = 'variables'):\n",
    "    \n",
    "    \"\"\"\n",
    "    Arguments : \n",
    "    name -- a tensor borad variable name\n",
    "    Returns:\n",
    "    parameters -- a dictionary of tensors containing W1, b1, W2, b2, W3, b3\n",
    "    \"\"\"\n",
    "    \n",
    "    with tf.name_scope(name): \n",
    "        \n",
    "        W1 = tf.get_variable('W1', [25,11], initializer= tf.contrib.layers.xavier_initializer(seed = 1)) \n",
    "        b1 = tf.get_variable('b1', [25,1], initializer= tf.zeros_initializer())\n",
    "        W2 = tf.get_variable('W2', [12,25], initializer= tf.contrib.layers.xavier_initializer(seed = 1))\n",
    "        b2 = tf.get_variable('b2', [12,1], initializer= tf.zeros_initializer())\n",
    "        W3 = tf.get_variable('W3', [6,12], initializer= tf.contrib.layers.xavier_initializer(seed = 1))\n",
    "        b3 = tf.get_variable('b3', [6,1], initializer= tf.zeros_initializer())\n",
    "\n",
    "        parameters = {\"W1\": W1,\n",
    "                      \"b1\": b1,\n",
    "                      \"W2\": W2,\n",
    "                      \"b2\": b2,\n",
    "                      \"W3\": W3,\n",
    "                      \"b3\": b3}\n",
    "\n",
    "    return parameters"
   ]
  },
  {
   "cell_type": "markdown",
   "metadata": {},
   "source": [
    "# Tensorflow Graph \n",
    "\n",
    "- Here I defined my tensorflow graph which represents the forward pass of my neural network \n",
    "- Here I chose to work with the Relu activation Function, why ?? \n",
    "    - The Relu activation function is used in cases where the problem is a multi-class classification  \n",
    "    - The Relu activation function is the most used function in neural network \n",
    "- why not sigmoid ? \n",
    "    - Sigmoid activation function is used in the case of logictic regression, and usually when the problem is binary classification "
   ]
  },
  {
   "cell_type": "code",
   "execution_count": 26,
   "metadata": {
    "collapsed": true
   },
   "outputs": [],
   "source": [
    "def forward_propagation(X, parameters, name = 'forward_pass'):\n",
    "    \"\"\"    \n",
    "    Arguments:\n",
    "    X -- input dataset placeholder\n",
    "    parameters -- python dictionary containing \"W1\", \"b1\", \"W2\", \"b2\", \"W3\", \"b3\"\n",
    "\n",
    "    Returns:\n",
    "    Z3 -- the output of the last LINEAR unit\n",
    "    \"\"\"\n",
    "    \n",
    "    # Retrieve the parameters from the dictionary \"parameters\" \n",
    "    with tf.name_scope(name):\n",
    "        \n",
    "        W1 = parameters['W1']\n",
    "        b1 = parameters['b1']\n",
    "        W2 = parameters['W2']\n",
    "        b2 = parameters['b2']\n",
    "        W3 = parameters['W3']\n",
    "        b3 = parameters['b3']\n",
    "\n",
    "        Z1 = tf.add(tf.matmul(W1, X), b1)                                              \n",
    "        A1 = tf.nn.relu(Z1)                                             \n",
    "        Z2 = tf.add(tf.matmul(W2, A1), b2)\n",
    "        A2 = tf.nn.relu(Z2)                                             \n",
    "        Z3 = tf.add(tf.matmul(W3, A2), b3)                                              \n",
    "    \n",
    "    return Z3"
   ]
  },
  {
   "cell_type": "markdown",
   "metadata": {},
   "source": [
    "# Cost Function \n",
    "- Here I defined my cost function \n",
    "- We chose to compute a cross entropy cost function, why ? \n",
    "    - in cases where we have multi-class classification usually we chose the cross entropy as a cost function \n",
    "    - I used Z3 instead of A3 the output of my Forward pass, why ? \n",
    "        - This is because tensorflow does the final softmax automatically in other words, if  we are to write our own function, we will \n",
    "        do <br>Z3 -- > A3 -- > softmax -- > Cross Entropy, but tensorflow include the softmax function with cross entropy"
   ]
  },
  {
   "cell_type": "code",
   "execution_count": 27,
   "metadata": {
    "collapsed": true
   },
   "outputs": [],
   "source": [
    "def compute_cost(Z3, Y, name =  'compute_cost'):\n",
    "    \"\"\"\n",
    "    Computes the cost\n",
    "    \n",
    "    Arguments:\n",
    "    Z3 -- output of forward propagation \n",
    "    Y -- \"true\" labels vector placeholder, same shape as Z3\n",
    "    \n",
    "    Returns:\n",
    "    cost - Tensor of the cost function\n",
    "    \"\"\"\n",
    "    with tf.name_scope(name) : \n",
    "        \n",
    "        logits = tf.transpose(Z3)\n",
    "        labels = tf.transpose(Y)\n",
    "        cost = tf.reduce_mean(tf.nn.softmax_cross_entropy_with_logits(logits = logits, labels = labels))\n",
    "    \n",
    "    return cost"
   ]
  },
  {
   "cell_type": "markdown",
   "metadata": {},
   "source": [
    "# Model !  \n",
    "- Here I defined my model \n",
    "    - First the learning rate: which represents the coefficient when updating the model parameters, it represents one the important hyperparameters \n",
    "        - learning_rate = 0.0001 or learning_rate = 0.001 or learning_rate = 0.01 or learning_rate = 0.1 \n",
    "    - Second the num_epochs : which represent the number times my optimizing process will execute \n",
    "        - num_epochs = 500, num_epochs = 1000, num_epochs = 1500, num_epochs = 2000\n",
    "    - Third the minibatch size: which define the amount of data the algorithm will use at each step of optimization \n",
    "- Run the session : \n",
    "    - As every neural network, it's necessary to compute for steps \n",
    "        - Repeat \n",
    "            - Run Forword Pass\n",
    "            - Compute Cost\n",
    "            - Run Backword Pass : we don't define it because tensor flow run it for us\n",
    "                - Run Backword Pass \n",
    "                - Update parameters         \n",
    "- Compute the accuracy of my system \n",
    "- Compute the confusion matrix\n",
    "- Discuss the result "
   ]
  },
  {
   "cell_type": "code",
   "execution_count": 38,
   "metadata": {
    "collapsed": true
   },
   "outputs": [],
   "source": [
    "def model(X_train, Y_train, X_test, Y_test, learning_rate = 0.0001,\n",
    "          num_epochs = 1500, minibatch_size = 32, print_cost = True):\n",
    "    \"\"\"\n",
    "    Arguments:\n",
    "    X_train -- training set\n",
    "    Y_train -- training set \n",
    "    X_test -- test set \n",
    "    Y_test -- test set\n",
    "    learning_rate -- learning rate of the optimization\n",
    "    num_epochs -- number of epochs of the optimization loop\n",
    "    minibatch_size -- size of a minibatch\n",
    "    print_cost -- True to print the cost every 100 epochs\n",
    "    \n",
    "    Returns:\n",
    "    parameters -- parameters learnt by the model. They can then be used to predict.\n",
    "    \"\"\"\n",
    "    \n",
    "    ops.reset_default_graph()                         # to be able to rerun the model without overwriting tf variables\n",
    "    tf.set_random_seed(1)                             # to keep consistent results\n",
    "    seed = 3                                          # to keep consistent results\n",
    "    (n_x, m) = X_train.shape                          # (n_x: input size, m : number of examples in the train set)\n",
    "    n_y = Y_train.shape[0]                            # n_y : output size\n",
    "    costs = []                                        # To keep track of the cost\n",
    "    \n",
    "    # Create Placeholders of shape (n_x, n_y)\n",
    "    X, Y = create_placeholders(n_x, n_y)\n",
    "\n",
    "    # Initialize parameters\n",
    "    parameters = initialize_parameters()\n",
    "    \n",
    "    # Forward propagation: Build the forward propagation in the tensorflow graph\n",
    "    Z3 = forward_propagation(X, parameters)\n",
    "    \n",
    "    # Cost function: Add cost function to tensorflow graph\n",
    "    cost = compute_cost(Z3, Y)\n",
    "    # Backpropagation: Define the tensorflow optimizer. Use an AdamOptimizer.\n",
    "    with tf.name_scope('train'): \n",
    "        optimizer = tf.train.AdamOptimizer(learning_rate = learning_rate).minimize(cost)    \n",
    "    \n",
    "    # Initialize all the variables\n",
    "    init = tf.global_variables_initializer()\n",
    "\n",
    "    # Start the session to compute the tensorflow graph\n",
    "    with tf.Session() as sess:\n",
    "        \n",
    "        # Run the initialization\n",
    "        sess.run(init)\n",
    "        \n",
    "        # Do the training loop\n",
    "        for epoch in range(num_epochs):\n",
    "\n",
    "            epoch_cost = 0.                       # Defines a cost related to an epoch\n",
    "            num_minibatches = int(m / minibatch_size) # number of minibatches of size minibatch_size in the train set\n",
    "            seed = seed + 1\n",
    "            minibatches = random_batches(X_train, Y_train, minibatch_size, seed)\n",
    "\n",
    "            for minibatch in minibatches:\n",
    "\n",
    "                # Select a minibatch\n",
    "                (minibatch_X, minibatch_Y) = minibatch\n",
    "                \n",
    "                # IMPORTANT: The line that runs the graph on a minibatch.\n",
    "                # Run the session to execute the \"optimizer\" and the \"cost\", the feedict should contain a minibatch for (X,Y).\n",
    "                _ , minibatch_cost = sess.run([optimizer, cost], feed_dict={X: minibatch_X, Y: minibatch_Y})\n",
    "                \n",
    "                epoch_cost += minibatch_cost / num_minibatches\n",
    "\n",
    "            # Print the cost every epoch\n",
    "            if print_cost == True and epoch % 100 == 0:\n",
    "                print (\"Cost after epoch %i: %f\" % (epoch, epoch_cost))\n",
    "            if print_cost == True and epoch % 5 == 0:\n",
    "                costs.append(epoch_cost)\n",
    "                \n",
    "        # plot the cost\n",
    "        plt.plot(np.squeeze(costs))\n",
    "        plt.ylabel('cost')\n",
    "        plt.xlabel('iterations (per tens)')\n",
    "        plt.title(\"Learning rate =\" + str(learning_rate))\n",
    "        plt.show()\n",
    "\n",
    "        # lets save the parameters in a variable\n",
    "        parameters = sess.run(parameters)\n",
    "        print (\"Parameters have been trained!\")\n",
    "\n",
    "        # Calculate the correct predictions\n",
    "        correct_prediction = tf.equal(tf.argmax(Z3,0), tf.argmax(Y,0))\n",
    "        \n",
    "        # Calculate accuracy on the test set\n",
    "        accuracy = tf.reduce_mean(tf.cast(correct_prediction, \"float\"))\n",
    "        \n",
    "        print (\"Test Accuracy:\", accuracy.eval({X: X_test, Y: Y_test}))\n",
    "        \n",
    "        #Z3 = forward_propagation(X, parameters)\n",
    "        pred = tf.argmax(Z3,0)\n",
    "        original = tf.argmax(Y,0)\n",
    "        prediction = sess.run(Z3, feed_dict = {X: X_test})\n",
    "        \n",
    "        cm = tf.confusion_matrix(original, pred)\n",
    "        print (\"\\n the confusion matrix is \\n\", sess.run(cm, feed_dict = {X: X_test, Y :Y_test }))\n",
    "        \n",
    "        # tensor board \n",
    "        writer = tf.summary.FileWriter('./train') \n",
    "        writer.add_graph(sess.graph)\n",
    "\n",
    "                \n",
    "        return parameters"
   ]
  },
  {
   "cell_type": "code",
   "execution_count": 39,
   "metadata": {
    "scrolled": true
   },
   "outputs": [
    {
     "name": "stdout",
     "output_type": "stream",
     "text": [
      "Cost after epoch 0: 7.548606\n",
      "Cost after epoch 100: 1.269766\n",
      "Cost after epoch 200: 1.197444\n",
      "Cost after epoch 300: 1.155308\n",
      "Cost after epoch 400: 1.129607\n",
      "Cost after epoch 500: 1.111189\n",
      "Cost after epoch 600: 1.100523\n",
      "Cost after epoch 700: 1.093844\n",
      "Cost after epoch 800: 1.089890\n",
      "Cost after epoch 900: 1.086204\n",
      "Cost after epoch 1000: 1.082942\n",
      "Cost after epoch 1100: 1.084028\n",
      "Cost after epoch 1200: 1.082413\n",
      "Cost after epoch 1300: 1.080022\n",
      "Cost after epoch 1400: 1.078016\n"
     ]
    },
    {
     "data": {
      "image/png": "[encoded data removed]",
      "text/plain": [
       "<matplotlib.figure.Figure at 0xcb6d1c29e8>"
      ]
     },
     "metadata": {},
     "output_type": "display_data"
    },
    {
     "name": "stdout",
     "output_type": "stream",
     "text": [
      "Parameters have been trained!\n",
      "Test Accuracy: 0.57\n",
      "\n",
      " the confusion matrix is \n",
      " [[  1   0   0   0   0   0]\n",
      " [  0   2   5   3   0   0]\n",
      " [  0   1  61  57   4   0]\n",
      " [  0   1  36 193  52   0]\n",
      " [  0   0   2  49  28   0]\n",
      " [  0   0   0   2   3   0]]\n"
     ]
    }
   ],
   "source": [
    "parameters = model(X_train, Y_train, X_test, Y_test)\n"
   ]
  },
  {
   "cell_type": "markdown",
   "metadata": {
    "collapsed": true
   },
   "source": [
    "# Discussion \n",
    "- I made a flexible model so i can modify any of its parameters (learning rate, batch size, num of epoch )\n",
    "- The model has an accuracy of 0.58 (last configuration)\n",
    "- From the confusion matrix I can conclude that my model didn't detect properly the 8 th class --> 0 true positive detection \n",
    "- the class 6 has a 193 true positive detected points \n",
    "- my cost function is decreasing so the model is optimizing the cost function"
   ]
  },
  {
   "cell_type": "code",
   "execution_count": null,
   "metadata": {
    "collapsed": true
   },
   "outputs": [],
   "source": []
  }
 ],
 "metadata": {
  "kernelspec": {
   "display_name": "Python 3",
   "language": "python",
   "name": "python3"
  },
  "language_info": {
   "codemirror_mode": {
    "name": "ipython",
    "version": 3
   },
   "file_extension": ".py",
   "mimetype": "text/x-python",
   "name": "python",
   "nbconvert_exporter": "python",
   "pygments_lexer": "ipython3",
   "version": "3.5.3"
  }
 },
 "nbformat": 4,
 "nbformat_minor": 2
}
